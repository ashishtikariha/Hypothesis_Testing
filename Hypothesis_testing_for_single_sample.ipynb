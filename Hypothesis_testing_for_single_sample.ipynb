{
 "cells": [
  {
   "cell_type": "markdown",
   "metadata": {},
   "source": [
    "## Assignment 1 : Hypothesis testing on single sample"
   ]
  },
  {
   "cell_type": "code",
   "execution_count": 7,
   "metadata": {},
   "outputs": [
    {
     "name": "stdout",
     "output_type": "stream",
     "text": [
      "Enter the name of the column to be taken as sampleSalePrice\n",
      "This is a Z-Distribution\n"
     ]
    },
    {
     "data": {
      "text/plain": [
       "'Reject Null hypothesis'"
      ]
     },
     "execution_count": 7,
     "metadata": {},
     "output_type": "execute_result"
    }
   ],
   "source": [
    "# flag =1 -----> Calculate point estimate\n",
    "# flag =2 -----> Calculate interval estimate\n",
    "# flag =3 -----> Perform hypothesis test on data\n",
    "\n",
    "import pandas as pd\n",
    "\n",
    "z_table = {0.01:2.33,0.015:2.17,0.02:2.06,0.025:1.96,0.03:1.88,0.05:1.68}        # Based on one tail test\n",
    "\n",
    "\n",
    "def my_stats(flag,alpha,population_mean,sample_mean=0,std_deviation=0,sample_size=0,file_name=0):\n",
    "    \n",
    "    try:\n",
    "        if file_name == 0:\n",
    "            pass\n",
    "        else:\n",
    "            column_name = input('Enter the name of the column to be taken as sample')\n",
    "            file = pd.read_csv(file_name)\n",
    "            sample_mean=file[column_name].mean()\n",
    "            std_deviation=file[column_name].std()\n",
    "            sample_size=file[column_name].count()\n",
    "    except:\n",
    "        return 'Enter valid column name for statistical analysis'\n",
    "\n",
    "        \n",
    "    if sample_size>=30:\n",
    "        print('This is a Z-Distribution')\n",
    "    \n",
    "        if flag==1:\n",
    "            point_estimate = sample_mean\n",
    "            return f'point_estimate is {point_estimate}'\n",
    "    \n",
    "        elif flag==2:\n",
    "            z_alpha = z_table.get(alpha,-1)\n",
    "            if z_alpha == -1:\n",
    "                return f'z_alpha for alpha ={alpha} is not present in dictionary'\n",
    "            MOE = (z_alpha*std_deviation)/(sample_size**0.5)\n",
    "            interval_estimate = f'{sample_mean - MOE} to {sample_mean + MOE}'\n",
    "            return f'interval_estimate is {interval_estimate}'\n",
    "    \n",
    "        elif flag==3:\n",
    "            z_alpha = z_table.get(alpha,-1)\n",
    "            if z_alpha == -1:\n",
    "                return f'z_alpha for alpha ={alpha} is not present in dictionary'\n",
    "            z_score = (sample_mean - population_mean)/(std_deviation/(sample_size**0.5))\n",
    "            if z_alpha > 0:\n",
    "                if z_score > z_alpha:\n",
    "                    return 'Reject Null hypothesis'\n",
    "                else:\n",
    "                    return 'Accept Null hypothesis'\n",
    "            elif z_alpha < 0:\n",
    "                if z_score < z_alpha:\n",
    "                    return 'Reject Null hypothesis'\n",
    "                else:\n",
    "                    return 'Accept Null hypothesis'\n",
    "    elif sample_size<30:\n",
    "        print('This is a T-Distribution')\n",
    "        \n",
    "        if flag==1:\n",
    "            point_estimate = sample_mean\n",
    "            return f'point_estimate is {point_estimate}'\n",
    "    \n",
    "        elif flag==2:\n",
    "            DOF = sample_size-1\n",
    "            try:\n",
    "                t_alpha = float(input(f'Enter t_alpha for DOF = {DOF} and alpha = {alpha}'))\n",
    "            except:\n",
    "                return 'Enter valid value for t_alpha'\n",
    "            MOE = (t_alpha*std_deviation)/(sample_size**0.5)\n",
    "            interval_estimate = f'{sample_mean - MOE} to {sample_mean + MOE}'\n",
    "            return f'interval_estimate is {interval_estimate}'\n",
    "    \n",
    "        elif flag==3:\n",
    "            DOF = sample_size-1\n",
    "            try:\n",
    "                t_alpha = float(input(f'Enter t_alpha for DOF = {DOF} and alpha = {alpha}'))\n",
    "            except:\n",
    "                return'Enter valid value for t_alpha'\n",
    "            t_score = (sample_mean - population_mean)/(std_deviation/(sample_size**0.5))\n",
    "            if t_alpha > 0:\n",
    "                if t_score > t_alpha:\n",
    "                    return 'Reject Null hypothesis'\n",
    "                else:\n",
    "                    return 'Accept Null hypothesis'\n",
    "            elif t_alpha < 0:\n",
    "                if t_score < t_alpha:\n",
    "                    return 'Reject Null hypothesis'\n",
    "                else:\n",
    "                    return 'Accept Null hypothesis'\n",
    "    \n",
    "\n",
    "    \n",
    "my_stats(3,0.025,5,6.1,0.2,20,'HouseData.csv')"
   ]
  },
  {
   "cell_type": "code",
   "execution_count": null,
   "metadata": {},
   "outputs": [],
   "source": []
  }
 ],
 "metadata": {
  "kernelspec": {
   "display_name": "Python 3",
   "language": "python",
   "name": "python3"
  },
  "language_info": {
   "codemirror_mode": {
    "name": "ipython",
    "version": 3
   },
   "file_extension": ".py",
   "mimetype": "text/x-python",
   "name": "python",
   "nbconvert_exporter": "python",
   "pygments_lexer": "ipython3",
   "version": "3.8.5"
  }
 },
 "nbformat": 4,
 "nbformat_minor": 4
}
